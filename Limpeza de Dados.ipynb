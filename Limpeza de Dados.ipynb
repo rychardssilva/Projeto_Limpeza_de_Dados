{
 "cells": [
  {
   "cell_type": "markdown",
   "id": "266d1ef9-f187-424a-9a85-3fa692a54b96",
   "metadata": {},
   "source": [
    "# Esse é um pequeno projeto de Limpeza de Dados \n",
    "#### Está simulando a importação de uma base de dados de um banco com o resultado do pagamento ou não de empréstimo"
   ]
  },
  {
   "cell_type": "code",
   "execution_count": 1,
   "id": "8d443364-f852-45fd-a027-1bd7a439db1c",
   "metadata": {},
   "outputs": [],
   "source": [
    "# Importando Biblioteca\n",
    "import pandas as pd"
   ]
  },
  {
   "cell_type": "code",
   "execution_count": 6,
   "id": "89cab353-90a2-41bc-ba7c-3c5b2683e218",
   "metadata": {},
   "outputs": [],
   "source": [
    "base = pd.read_excel(\"ChavesClientes.xlsx\",sheet_name = \"base\")"
   ]
  },
  {
   "cell_type": "code",
   "execution_count": 7,
   "id": "160f11af-ac36-4434-a02a-333e92c6cb20",
   "metadata": {},
   "outputs": [
    {
     "data": {
      "text/html": [
       "<div>\n",
       "<style scoped>\n",
       "    .dataframe tbody tr th:only-of-type {\n",
       "        vertical-align: middle;\n",
       "    }\n",
       "\n",
       "    .dataframe tbody tr th {\n",
       "        vertical-align: top;\n",
       "    }\n",
       "\n",
       "    .dataframe thead th {\n",
       "        text-align: right;\n",
       "    }\n",
       "</style>\n",
       "<table border=\"1\" class=\"dataframe\">\n",
       "  <thead>\n",
       "    <tr style=\"text-align: right;\">\n",
       "      <th></th>\n",
       "      <th>ID</th>\n",
       "      <th>ChaveSituacao</th>\n",
       "      <th>ClassRisco</th>\n",
       "      <th>CatCliente</th>\n",
       "      <th>Pagamento</th>\n",
       "    </tr>\n",
       "  </thead>\n",
       "  <tbody>\n",
       "    <tr>\n",
       "      <th>0</th>\n",
       "      <td>1</td>\n",
       "      <td>32FC</td>\n",
       "      <td>Ccinza</td>\n",
       "      <td>Basic-Alpha</td>\n",
       "      <td>1</td>\n",
       "    </tr>\n",
       "    <tr>\n",
       "      <th>1</th>\n",
       "      <td>2</td>\n",
       "      <td>25MV</td>\n",
       "      <td>AAmarelo</td>\n",
       "      <td>Black</td>\n",
       "      <td>1</td>\n",
       "    </tr>\n",
       "    <tr>\n",
       "      <th>2</th>\n",
       "      <td>3</td>\n",
       "      <td>27MV</td>\n",
       "      <td>B-Amarelo</td>\n",
       "      <td>Basic-Beta</td>\n",
       "      <td>1</td>\n",
       "    </tr>\n",
       "    <tr>\n",
       "      <th>3</th>\n",
       "      <td>4</td>\n",
       "      <td>26FD</td>\n",
       "      <td>BAmarelo</td>\n",
       "      <td>Black</td>\n",
       "      <td>0</td>\n",
       "    </tr>\n",
       "    <tr>\n",
       "      <th>4</th>\n",
       "      <td>5</td>\n",
       "      <td>26FD</td>\n",
       "      <td>C-Amarelo</td>\n",
       "      <td>Black</td>\n",
       "      <td>0</td>\n",
       "    </tr>\n",
       "  </tbody>\n",
       "</table>\n",
       "</div>"
      ],
      "text/plain": [
       "   ID ChaveSituacao ClassRisco   CatCliente  Pagamento\n",
       "0   1          32FC     Ccinza  Basic-Alpha          1\n",
       "1   2          25MV   AAmarelo        Black          1\n",
       "2   3          27MV  B-Amarelo   Basic-Beta          1\n",
       "3   4          26FD   BAmarelo        Black          0\n",
       "4   5          26FD  C-Amarelo        Black          0"
      ]
     },
     "execution_count": 7,
     "metadata": {},
     "output_type": "execute_result"
    }
   ],
   "source": [
    "base.head()"
   ]
  },
  {
   "cell_type": "markdown",
   "id": "98d4763d-dd06-4888-9139-ceec4caa9a71",
   "metadata": {},
   "source": [
    "#### Verificando Cardinalidade"
   ]
  },
  {
   "cell_type": "code",
   "execution_count": 9,
   "id": "b6df126c-aa0c-4311-88cf-3b95c93395e8",
   "metadata": {},
   "outputs": [
    {
     "data": {
      "text/plain": [
       "Pagamento  ChaveSituacao\n",
       "0          26FD             2\n",
       "           28FC             2\n",
       "           28MD             1\n",
       "           30FC             1\n",
       "           31MD             1\n",
       "1          25FD             1\n",
       "           25FV             1\n",
       "           25MV             1\n",
       "           26MC             2\n",
       "           27MC             1\n",
       "           27MD             2\n",
       "           27MV             1\n",
       "           28FS             1\n",
       "           29MV             1\n",
       "           31MV             1\n",
       "           32FC             1\n",
       "Name: Pagamento, dtype: int64"
      ]
     },
     "execution_count": 9,
     "metadata": {},
     "output_type": "execute_result"
    }
   ],
   "source": [
    "base.groupby([\"Pagamento\", \"ChaveSituacao\"])[\"Pagamento\"].count()"
   ]
  },
  {
   "cell_type": "markdown",
   "id": "58cc3263-cb72-4991-b8f4-2e043c2860c5",
   "metadata": {},
   "source": [
    "\n",
    "# informação  do que representa cada coluna:\n",
    " \n",
    " ### ChaveSituacao: formado por:\n",
    "        - Idade do cliente (a idade mínima para ser cliente é 18 anos)\n",
    "        - Gênero do cliente:\n",
    "            - M: Masculino\n",
    "            - F: Feminino\n",
    "        - Estado civil do cliente:\n",
    "            - S: solteiro\n",
    "            - D: divorciado\n",
    "            - V: viúvo\n",
    "   ### ClassRisco: formado por:\n",
    "         - Classificação do cliente como (A,B,C) e indicador (+,- ou vazio)\n",
    "         - Cor do cliente de acordo com um modelo de churn interno da empresa\n",
    "   ### CatCliente: formado por:\n",
    "        - Categoria do cartão: qual o tipo de cartão do cliente:\n",
    "            - Basic\n",
    "            - Black\n",
    "            - Platinum\n",
    "  ###  Categoria VIP: categoria do cliente VIP (caso exista)\n",
    "            - Alpha\n",
    "            - Beta"
   ]
  },
  {
   "cell_type": "code",
   "execution_count": 15,
   "id": "01519723-7319-4848-96c5-cd24f17f2523",
   "metadata": {},
   "outputs": [],
   "source": [
    "texto = '32FC'"
   ]
  },
  {
   "cell_type": "code",
   "execution_count": 16,
   "id": "5e866c8c-0d0e-4474-831c-efd875fca7ea",
   "metadata": {},
   "outputs": [
    {
     "data": {
      "text/plain": [
       "'C'"
      ]
     },
     "execution_count": 16,
     "metadata": {},
     "output_type": "execute_result"
    }
   ],
   "source": [
    "texto[-1]"
   ]
  },
  {
   "cell_type": "markdown",
   "id": "649a3462-a7ae-4b32-99aa-bb30f695fb85",
   "metadata": {},
   "source": [
    "# Separando as Colunas ChaveSituacao"
   ]
  },
  {
   "cell_type": "code",
   "execution_count": 20,
   "id": "2c286e21-dabf-4dd6-9ef9-e761bf8390ff",
   "metadata": {},
   "outputs": [],
   "source": [
    "base[\"Idade\"] = base.ChaveSituacao.str[:2]"
   ]
  },
  {
   "cell_type": "code",
   "execution_count": 19,
   "id": "0fc7bb6b-920f-4b34-b5a5-059152b29d0b",
   "metadata": {},
   "outputs": [
    {
     "data": {
      "text/html": [
       "<div>\n",
       "<style scoped>\n",
       "    .dataframe tbody tr th:only-of-type {\n",
       "        vertical-align: middle;\n",
       "    }\n",
       "\n",
       "    .dataframe tbody tr th {\n",
       "        vertical-align: top;\n",
       "    }\n",
       "\n",
       "    .dataframe thead th {\n",
       "        text-align: right;\n",
       "    }\n",
       "</style>\n",
       "<table border=\"1\" class=\"dataframe\">\n",
       "  <thead>\n",
       "    <tr style=\"text-align: right;\">\n",
       "      <th></th>\n",
       "      <th>ID</th>\n",
       "      <th>ChaveSituacao</th>\n",
       "      <th>ClassRisco</th>\n",
       "      <th>CatCliente</th>\n",
       "      <th>Pagamento</th>\n",
       "      <th>Idade</th>\n",
       "    </tr>\n",
       "  </thead>\n",
       "  <tbody>\n",
       "    <tr>\n",
       "      <th>0</th>\n",
       "      <td>1</td>\n",
       "      <td>32FC</td>\n",
       "      <td>Ccinza</td>\n",
       "      <td>Basic-Alpha</td>\n",
       "      <td>1</td>\n",
       "      <td>32</td>\n",
       "    </tr>\n",
       "    <tr>\n",
       "      <th>1</th>\n",
       "      <td>2</td>\n",
       "      <td>25MV</td>\n",
       "      <td>AAmarelo</td>\n",
       "      <td>Black</td>\n",
       "      <td>1</td>\n",
       "      <td>25</td>\n",
       "    </tr>\n",
       "    <tr>\n",
       "      <th>2</th>\n",
       "      <td>3</td>\n",
       "      <td>27MV</td>\n",
       "      <td>B-Amarelo</td>\n",
       "      <td>Basic-Beta</td>\n",
       "      <td>1</td>\n",
       "      <td>27</td>\n",
       "    </tr>\n",
       "    <tr>\n",
       "      <th>3</th>\n",
       "      <td>4</td>\n",
       "      <td>26FD</td>\n",
       "      <td>BAmarelo</td>\n",
       "      <td>Black</td>\n",
       "      <td>0</td>\n",
       "      <td>26</td>\n",
       "    </tr>\n",
       "    <tr>\n",
       "      <th>4</th>\n",
       "      <td>5</td>\n",
       "      <td>26FD</td>\n",
       "      <td>C-Amarelo</td>\n",
       "      <td>Black</td>\n",
       "      <td>0</td>\n",
       "      <td>26</td>\n",
       "    </tr>\n",
       "  </tbody>\n",
       "</table>\n",
       "</div>"
      ],
      "text/plain": [
       "   ID ChaveSituacao ClassRisco   CatCliente  Pagamento Idade\n",
       "0   1          32FC     Ccinza  Basic-Alpha          1    32\n",
       "1   2          25MV   AAmarelo        Black          1    25\n",
       "2   3          27MV  B-Amarelo   Basic-Beta          1    27\n",
       "3   4          26FD   BAmarelo        Black          0    26\n",
       "4   5          26FD  C-Amarelo        Black          0    26"
      ]
     },
     "execution_count": 19,
     "metadata": {},
     "output_type": "execute_result"
    }
   ],
   "source": [
    "base.head()"
   ]
  },
  {
   "cell_type": "code",
   "execution_count": 34,
   "id": "b2494c85-951e-4cc8-9b25-f4634e39d9a2",
   "metadata": {},
   "outputs": [],
   "source": [
    "base[\"Genero\"] = base.ChaveSituacao.str[2:3]\n",
    "base[\"EstadoCivil\"] = base.ChaveSituacao.str[-1]  # Certifique-se de usar sempre \"EstadoCivil\", sem espaço!\n"
   ]
  },
  {
   "cell_type": "code",
   "execution_count": 36,
   "id": "56c01576-2041-4ad0-be74-b826ad7703ff",
   "metadata": {},
   "outputs": [],
   "source": [
    "base = base.drop(columns=[\"Estado Civil\"])"
   ]
  },
  {
   "cell_type": "code",
   "execution_count": 37,
   "id": "fe8f29af-e7dc-4665-bde8-29c1cbabefb3",
   "metadata": {},
   "outputs": [
    {
     "data": {
      "text/html": [
       "<div>\n",
       "<style scoped>\n",
       "    .dataframe tbody tr th:only-of-type {\n",
       "        vertical-align: middle;\n",
       "    }\n",
       "\n",
       "    .dataframe tbody tr th {\n",
       "        vertical-align: top;\n",
       "    }\n",
       "\n",
       "    .dataframe thead th {\n",
       "        text-align: right;\n",
       "    }\n",
       "</style>\n",
       "<table border=\"1\" class=\"dataframe\">\n",
       "  <thead>\n",
       "    <tr style=\"text-align: right;\">\n",
       "      <th></th>\n",
       "      <th>ID</th>\n",
       "      <th>ChaveSituacao</th>\n",
       "      <th>ClassRisco</th>\n",
       "      <th>CatCliente</th>\n",
       "      <th>Pagamento</th>\n",
       "      <th>Idade</th>\n",
       "      <th>Genero</th>\n",
       "      <th>EstadoCivil</th>\n",
       "    </tr>\n",
       "  </thead>\n",
       "  <tbody>\n",
       "    <tr>\n",
       "      <th>0</th>\n",
       "      <td>1</td>\n",
       "      <td>32FC</td>\n",
       "      <td>Ccinza</td>\n",
       "      <td>Basic-Alpha</td>\n",
       "      <td>1</td>\n",
       "      <td>32</td>\n",
       "      <td>F</td>\n",
       "      <td>C</td>\n",
       "    </tr>\n",
       "    <tr>\n",
       "      <th>1</th>\n",
       "      <td>2</td>\n",
       "      <td>25MV</td>\n",
       "      <td>AAmarelo</td>\n",
       "      <td>Black</td>\n",
       "      <td>1</td>\n",
       "      <td>25</td>\n",
       "      <td>M</td>\n",
       "      <td>V</td>\n",
       "    </tr>\n",
       "    <tr>\n",
       "      <th>2</th>\n",
       "      <td>3</td>\n",
       "      <td>27MV</td>\n",
       "      <td>B-Amarelo</td>\n",
       "      <td>Basic-Beta</td>\n",
       "      <td>1</td>\n",
       "      <td>27</td>\n",
       "      <td>M</td>\n",
       "      <td>V</td>\n",
       "    </tr>\n",
       "    <tr>\n",
       "      <th>3</th>\n",
       "      <td>4</td>\n",
       "      <td>26FD</td>\n",
       "      <td>BAmarelo</td>\n",
       "      <td>Black</td>\n",
       "      <td>0</td>\n",
       "      <td>26</td>\n",
       "      <td>F</td>\n",
       "      <td>D</td>\n",
       "    </tr>\n",
       "    <tr>\n",
       "      <th>4</th>\n",
       "      <td>5</td>\n",
       "      <td>26FD</td>\n",
       "      <td>C-Amarelo</td>\n",
       "      <td>Black</td>\n",
       "      <td>0</td>\n",
       "      <td>26</td>\n",
       "      <td>F</td>\n",
       "      <td>D</td>\n",
       "    </tr>\n",
       "  </tbody>\n",
       "</table>\n",
       "</div>"
      ],
      "text/plain": [
       "   ID ChaveSituacao ClassRisco   CatCliente  Pagamento Idade Genero  \\\n",
       "0   1          32FC     Ccinza  Basic-Alpha          1    32      F   \n",
       "1   2          25MV   AAmarelo        Black          1    25      M   \n",
       "2   3          27MV  B-Amarelo   Basic-Beta          1    27      M   \n",
       "3   4          26FD   BAmarelo        Black          0    26      F   \n",
       "4   5          26FD  C-Amarelo        Black          0    26      F   \n",
       "\n",
       "  EstadoCivil  \n",
       "0           C  \n",
       "1           V  \n",
       "2           V  \n",
       "3           D  \n",
       "4           D  "
      ]
     },
     "execution_count": 37,
     "metadata": {},
     "output_type": "execute_result"
    }
   ],
   "source": [
    "base.head()"
   ]
  },
  {
   "cell_type": "code",
   "execution_count": 38,
   "id": "1c760ade-a725-47d3-9315-1906a31e3895",
   "metadata": {},
   "outputs": [
    {
     "data": {
      "text/plain": [
       "Pagamento  EstadoCivil\n",
       "0          C              3\n",
       "           D              4\n",
       "1          C              4\n",
       "           D              3\n",
       "           S              1\n",
       "           V              5\n",
       "Name: Pagamento, dtype: int64"
      ]
     },
     "execution_count": 38,
     "metadata": {},
     "output_type": "execute_result"
    }
   ],
   "source": [
    "base.groupby([\"Pagamento\", \"EstadoCivil\"])[\"Pagamento\"].count()"
   ]
  },
  {
   "cell_type": "code",
   "execution_count": 39,
   "id": "e88643bc-83a6-49bf-a406-0f83cfe18b16",
   "metadata": {},
   "outputs": [],
   "source": [
    "texto = \"Basic-Alpha\""
   ]
  },
  {
   "cell_type": "code",
   "execution_count": 40,
   "id": "4a8c532b-e45c-48e9-86c6-1415d0f8f4c6",
   "metadata": {},
   "outputs": [
    {
     "data": {
      "text/plain": [
       "['Basic', 'Alpha']"
      ]
     },
     "execution_count": 40,
     "metadata": {},
     "output_type": "execute_result"
    }
   ],
   "source": [
    "texto.split(\"-\")"
   ]
  },
  {
   "cell_type": "markdown",
   "id": "13d42d14-f63b-41de-ae8c-d465f5869f07",
   "metadata": {},
   "source": [
    "# Separando as Coluna CatCliente\n",
    "#### Está sendo usado o '-' para separar, podendo assim criar novas colunas \n",
    "#### O get 0 está sendo usado para pegar o primeiro elemento \n",
    "#### Isso NaN significa que é um valor vazio\n",
    "\n"
   ]
  },
  {
   "cell_type": "code",
   "execution_count": 51,
   "id": "56339233-2e5b-461e-b451-c8f0f3cb5404",
   "metadata": {},
   "outputs": [],
   "source": [
    "base[\"Categoria\"] = base.CatCliente.str.split(\"-\").str.get(0)\n",
    "base[\"CatVIp\"] = base.CatCliente.str.split(\"-\").str.get(1)"
   ]
  },
  {
   "cell_type": "code",
   "execution_count": 54,
   "id": "889dc05d-723d-4738-8206-c63210276b8d",
   "metadata": {},
   "outputs": [
    {
     "data": {
      "text/html": [
       "<div>\n",
       "<style scoped>\n",
       "    .dataframe tbody tr th:only-of-type {\n",
       "        vertical-align: middle;\n",
       "    }\n",
       "\n",
       "    .dataframe tbody tr th {\n",
       "        vertical-align: top;\n",
       "    }\n",
       "\n",
       "    .dataframe thead th {\n",
       "        text-align: right;\n",
       "    }\n",
       "</style>\n",
       "<table border=\"1\" class=\"dataframe\">\n",
       "  <thead>\n",
       "    <tr style=\"text-align: right;\">\n",
       "      <th></th>\n",
       "      <th>ID</th>\n",
       "      <th>ChaveSituacao</th>\n",
       "      <th>ClassRisco</th>\n",
       "      <th>CatCliente</th>\n",
       "      <th>Pagamento</th>\n",
       "      <th>Idade</th>\n",
       "      <th>Genero</th>\n",
       "      <th>EstadoCivil</th>\n",
       "      <th>Categoria</th>\n",
       "      <th>CatVIp</th>\n",
       "    </tr>\n",
       "  </thead>\n",
       "  <tbody>\n",
       "    <tr>\n",
       "      <th>0</th>\n",
       "      <td>1</td>\n",
       "      <td>32FC</td>\n",
       "      <td>Ccinza</td>\n",
       "      <td>Basic-Alpha</td>\n",
       "      <td>1</td>\n",
       "      <td>32</td>\n",
       "      <td>F</td>\n",
       "      <td>C</td>\n",
       "      <td>Basic</td>\n",
       "      <td>Alpha</td>\n",
       "    </tr>\n",
       "    <tr>\n",
       "      <th>1</th>\n",
       "      <td>2</td>\n",
       "      <td>25MV</td>\n",
       "      <td>AAmarelo</td>\n",
       "      <td>Black</td>\n",
       "      <td>1</td>\n",
       "      <td>25</td>\n",
       "      <td>M</td>\n",
       "      <td>V</td>\n",
       "      <td>Black</td>\n",
       "      <td>NaN</td>\n",
       "    </tr>\n",
       "    <tr>\n",
       "      <th>2</th>\n",
       "      <td>3</td>\n",
       "      <td>27MV</td>\n",
       "      <td>B-Amarelo</td>\n",
       "      <td>Basic-Beta</td>\n",
       "      <td>1</td>\n",
       "      <td>27</td>\n",
       "      <td>M</td>\n",
       "      <td>V</td>\n",
       "      <td>Basic</td>\n",
       "      <td>Beta</td>\n",
       "    </tr>\n",
       "    <tr>\n",
       "      <th>3</th>\n",
       "      <td>4</td>\n",
       "      <td>26FD</td>\n",
       "      <td>BAmarelo</td>\n",
       "      <td>Black</td>\n",
       "      <td>0</td>\n",
       "      <td>26</td>\n",
       "      <td>F</td>\n",
       "      <td>D</td>\n",
       "      <td>Black</td>\n",
       "      <td>NaN</td>\n",
       "    </tr>\n",
       "    <tr>\n",
       "      <th>4</th>\n",
       "      <td>5</td>\n",
       "      <td>26FD</td>\n",
       "      <td>C-Amarelo</td>\n",
       "      <td>Black</td>\n",
       "      <td>0</td>\n",
       "      <td>26</td>\n",
       "      <td>F</td>\n",
       "      <td>D</td>\n",
       "      <td>Black</td>\n",
       "      <td>NaN</td>\n",
       "    </tr>\n",
       "  </tbody>\n",
       "</table>\n",
       "</div>"
      ],
      "text/plain": [
       "   ID ChaveSituacao ClassRisco   CatCliente  Pagamento Idade Genero  \\\n",
       "0   1          32FC     Ccinza  Basic-Alpha          1    32      F   \n",
       "1   2          25MV   AAmarelo        Black          1    25      M   \n",
       "2   3          27MV  B-Amarelo   Basic-Beta          1    27      M   \n",
       "3   4          26FD   BAmarelo        Black          0    26      F   \n",
       "4   5          26FD  C-Amarelo        Black          0    26      F   \n",
       "\n",
       "  EstadoCivil Categoria CatVIp  \n",
       "0           C     Basic  Alpha  \n",
       "1           V     Black    NaN  \n",
       "2           V     Basic   Beta  \n",
       "3           D     Black    NaN  \n",
       "4           D     Black    NaN  "
      ]
     },
     "execution_count": 54,
     "metadata": {},
     "output_type": "execute_result"
    }
   ],
   "source": [
    "base.head()"
   ]
  },
  {
   "cell_type": "code",
   "execution_count": 53,
   "id": "2a819eb3-909c-4315-b770-214565544274",
   "metadata": {},
   "outputs": [],
   "source": [
    "base = base.drop(columns=[\"Cliente\"])"
   ]
  },
  {
   "cell_type": "markdown",
   "id": "b4d31c0a-731e-4065-ab90-614e0ff99267",
   "metadata": {},
   "source": [
    "# Separando as Coluna ClassRisco\t\n",
    "#### Importando a Biblioteca Regex, para conseguir separar melhor \n",
    "#### Nesse caso não será criado uma classe para essas cores, pois foi um erro \n"
   ]
  },
  {
   "cell_type": "code",
   "execution_count": 57,
   "id": "37fed58a-8ffc-42ce-a180-8799d5b20536",
   "metadata": {},
   "outputs": [],
   "source": [
    "import re"
   ]
  },
  {
   "cell_type": "code",
   "execution_count": 62,
   "id": "c76626c7-d73b-4843-ae83-b87c4a394aaf",
   "metadata": {},
   "outputs": [
    {
     "data": {
      "text/plain": [
       "['A']"
      ]
     },
     "execution_count": 62,
     "metadata": {},
     "output_type": "execute_result"
    }
   ],
   "source": [
    "re.findall('^[A-Z][^A-Za-z]?', 'AAmerelo')"
   ]
  },
  {
   "cell_type": "code",
   "execution_count": 63,
   "id": "6438c5f2-068f-4e18-b902-58de51894627",
   "metadata": {},
   "outputs": [],
   "source": [
    "base[\"Risco\"] = base.ClassRisco.apply(lambda x:re.findall('^[A-Z][^A-Za-z]?', x)[0])"
   ]
  },
  {
   "cell_type": "code",
   "execution_count": 64,
   "id": "59271c06-b253-4c1e-82f8-87c664f7cecd",
   "metadata": {},
   "outputs": [
    {
     "data": {
      "text/html": [
       "<div>\n",
       "<style scoped>\n",
       "    .dataframe tbody tr th:only-of-type {\n",
       "        vertical-align: middle;\n",
       "    }\n",
       "\n",
       "    .dataframe tbody tr th {\n",
       "        vertical-align: top;\n",
       "    }\n",
       "\n",
       "    .dataframe thead th {\n",
       "        text-align: right;\n",
       "    }\n",
       "</style>\n",
       "<table border=\"1\" class=\"dataframe\">\n",
       "  <thead>\n",
       "    <tr style=\"text-align: right;\">\n",
       "      <th></th>\n",
       "      <th>ID</th>\n",
       "      <th>ChaveSituacao</th>\n",
       "      <th>ClassRisco</th>\n",
       "      <th>CatCliente</th>\n",
       "      <th>Pagamento</th>\n",
       "      <th>Idade</th>\n",
       "      <th>Genero</th>\n",
       "      <th>EstadoCivil</th>\n",
       "      <th>Categoria</th>\n",
       "      <th>CatVIp</th>\n",
       "      <th>Risco</th>\n",
       "    </tr>\n",
       "  </thead>\n",
       "  <tbody>\n",
       "    <tr>\n",
       "      <th>0</th>\n",
       "      <td>1</td>\n",
       "      <td>32FC</td>\n",
       "      <td>Ccinza</td>\n",
       "      <td>Basic-Alpha</td>\n",
       "      <td>1</td>\n",
       "      <td>32</td>\n",
       "      <td>F</td>\n",
       "      <td>C</td>\n",
       "      <td>Basic</td>\n",
       "      <td>Alpha</td>\n",
       "      <td>C</td>\n",
       "    </tr>\n",
       "    <tr>\n",
       "      <th>1</th>\n",
       "      <td>2</td>\n",
       "      <td>25MV</td>\n",
       "      <td>AAmarelo</td>\n",
       "      <td>Black</td>\n",
       "      <td>1</td>\n",
       "      <td>25</td>\n",
       "      <td>M</td>\n",
       "      <td>V</td>\n",
       "      <td>Black</td>\n",
       "      <td>NaN</td>\n",
       "      <td>A</td>\n",
       "    </tr>\n",
       "    <tr>\n",
       "      <th>2</th>\n",
       "      <td>3</td>\n",
       "      <td>27MV</td>\n",
       "      <td>B-Amarelo</td>\n",
       "      <td>Basic-Beta</td>\n",
       "      <td>1</td>\n",
       "      <td>27</td>\n",
       "      <td>M</td>\n",
       "      <td>V</td>\n",
       "      <td>Basic</td>\n",
       "      <td>Beta</td>\n",
       "      <td>B-</td>\n",
       "    </tr>\n",
       "    <tr>\n",
       "      <th>3</th>\n",
       "      <td>4</td>\n",
       "      <td>26FD</td>\n",
       "      <td>BAmarelo</td>\n",
       "      <td>Black</td>\n",
       "      <td>0</td>\n",
       "      <td>26</td>\n",
       "      <td>F</td>\n",
       "      <td>D</td>\n",
       "      <td>Black</td>\n",
       "      <td>NaN</td>\n",
       "      <td>B</td>\n",
       "    </tr>\n",
       "    <tr>\n",
       "      <th>4</th>\n",
       "      <td>5</td>\n",
       "      <td>26FD</td>\n",
       "      <td>C-Amarelo</td>\n",
       "      <td>Black</td>\n",
       "      <td>0</td>\n",
       "      <td>26</td>\n",
       "      <td>F</td>\n",
       "      <td>D</td>\n",
       "      <td>Black</td>\n",
       "      <td>NaN</td>\n",
       "      <td>C-</td>\n",
       "    </tr>\n",
       "  </tbody>\n",
       "</table>\n",
       "</div>"
      ],
      "text/plain": [
       "   ID ChaveSituacao ClassRisco   CatCliente  Pagamento Idade Genero  \\\n",
       "0   1          32FC     Ccinza  Basic-Alpha          1    32      F   \n",
       "1   2          25MV   AAmarelo        Black          1    25      M   \n",
       "2   3          27MV  B-Amarelo   Basic-Beta          1    27      M   \n",
       "3   4          26FD   BAmarelo        Black          0    26      F   \n",
       "4   5          26FD  C-Amarelo        Black          0    26      F   \n",
       "\n",
       "  EstadoCivil Categoria CatVIp Risco  \n",
       "0           C     Basic  Alpha     C  \n",
       "1           V     Black    NaN     A  \n",
       "2           V     Basic   Beta    B-  \n",
       "3           D     Black    NaN     B  \n",
       "4           D     Black    NaN    C-  "
      ]
     },
     "execution_count": 64,
     "metadata": {},
     "output_type": "execute_result"
    }
   ],
   "source": [
    "base.head()"
   ]
  },
  {
   "cell_type": "code",
   "execution_count": 66,
   "id": "7484b690-3be3-409d-944e-c552530acd47",
   "metadata": {},
   "outputs": [
    {
     "name": "stdout",
     "output_type": "stream",
     "text": [
      "<class 'pandas.core.frame.DataFrame'>\n",
      "RangeIndex: 20 entries, 0 to 19\n",
      "Data columns (total 11 columns):\n",
      " #   Column         Non-Null Count  Dtype \n",
      "---  ------         --------------  ----- \n",
      " 0   ID             20 non-null     int64 \n",
      " 1   ChaveSituacao  20 non-null     object\n",
      " 2   ClassRisco     20 non-null     object\n",
      " 3   CatCliente     20 non-null     object\n",
      " 4   Pagamento      20 non-null     int64 \n",
      " 5   Idade          20 non-null     object\n",
      " 6   Genero         20 non-null     object\n",
      " 7   EstadoCivil    20 non-null     object\n",
      " 8   Categoria      20 non-null     object\n",
      " 9   CatVIp         8 non-null      object\n",
      " 10  Risco          20 non-null     object\n",
      "dtypes: int64(2), object(9)\n",
      "memory usage: 1.8+ KB\n"
     ]
    }
   ],
   "source": [
    "base.info()"
   ]
  },
  {
   "cell_type": "markdown",
   "id": "fe7d7585-2a72-41b5-bdab-4e9f271ff385",
   "metadata": {},
   "source": [
    "# Tem um Erro na Coluna Idade, ela não pode ser um objeto\n"
   ]
  },
  {
   "cell_type": "code",
   "execution_count": 67,
   "id": "241eec7f-33f2-4337-93ab-d856aff86a10",
   "metadata": {},
   "outputs": [],
   "source": [
    "base[\"Idade\"] = pd.to_numeric(base[\"Idade\"])"
   ]
  },
  {
   "cell_type": "code",
   "execution_count": 68,
   "id": "537f6b6f-86e8-4881-8c44-085fe9682293",
   "metadata": {},
   "outputs": [
    {
     "name": "stdout",
     "output_type": "stream",
     "text": [
      "<class 'pandas.core.frame.DataFrame'>\n",
      "RangeIndex: 20 entries, 0 to 19\n",
      "Data columns (total 11 columns):\n",
      " #   Column         Non-Null Count  Dtype \n",
      "---  ------         --------------  ----- \n",
      " 0   ID             20 non-null     int64 \n",
      " 1   ChaveSituacao  20 non-null     object\n",
      " 2   ClassRisco     20 non-null     object\n",
      " 3   CatCliente     20 non-null     object\n",
      " 4   Pagamento      20 non-null     int64 \n",
      " 5   Idade          20 non-null     int64 \n",
      " 6   Genero         20 non-null     object\n",
      " 7   EstadoCivil    20 non-null     object\n",
      " 8   Categoria      20 non-null     object\n",
      " 9   CatVIp         8 non-null      object\n",
      " 10  Risco          20 non-null     object\n",
      "dtypes: int64(3), object(8)\n",
      "memory usage: 1.8+ KB\n"
     ]
    }
   ],
   "source": [
    "base.info()"
   ]
  },
  {
   "cell_type": "markdown",
   "id": "c3af1003-9026-4138-8654-2d0c72a1c1aa",
   "metadata": {},
   "source": [
    "# Mudando todos as linhas q estão como NaN no CatVip"
   ]
  },
  {
   "cell_type": "code",
   "execution_count": 72,
   "id": "04226fb3-1457-4e64-89de-5fdd4231986e",
   "metadata": {},
   "outputs": [],
   "source": [
    "base.loc[base.CatVIp.isnull(),\"CatVIp\"] = \"Commum\""
   ]
  },
  {
   "cell_type": "code",
   "execution_count": 73,
   "id": "daedaca2-2ab4-4a66-9078-346c62f11c2e",
   "metadata": {},
   "outputs": [
    {
     "name": "stdout",
     "output_type": "stream",
     "text": [
      "<class 'pandas.core.frame.DataFrame'>\n",
      "RangeIndex: 20 entries, 0 to 19\n",
      "Data columns (total 11 columns):\n",
      " #   Column         Non-Null Count  Dtype \n",
      "---  ------         --------------  ----- \n",
      " 0   ID             20 non-null     int64 \n",
      " 1   ChaveSituacao  20 non-null     object\n",
      " 2   ClassRisco     20 non-null     object\n",
      " 3   CatCliente     20 non-null     object\n",
      " 4   Pagamento      20 non-null     int64 \n",
      " 5   Idade          20 non-null     int64 \n",
      " 6   Genero         20 non-null     object\n",
      " 7   EstadoCivil    20 non-null     object\n",
      " 8   Categoria      20 non-null     object\n",
      " 9   CatVIp         20 non-null     object\n",
      " 10  Risco          20 non-null     object\n",
      "dtypes: int64(3), object(8)\n",
      "memory usage: 1.8+ KB\n"
     ]
    }
   ],
   "source": [
    "base.info()"
   ]
  },
  {
   "cell_type": "code",
   "execution_count": 77,
   "id": "7e103a03-6ab0-409d-8350-45a8a72b9939",
   "metadata": {},
   "outputs": [
    {
     "data": {
      "text/plain": [
       "Pagamento  Risco\n",
       "0          B        2\n",
       "           C-       5\n",
       "1          A        3\n",
       "           A-       4\n",
       "           B-       2\n",
       "           C        3\n",
       "           C+       1\n",
       "Name: Pagamento, dtype: int64"
      ]
     },
     "execution_count": 77,
     "metadata": {},
     "output_type": "execute_result"
    }
   ],
   "source": [
    "base.groupby([\"Pagamento\", \"Risco\"])[\"Pagamento\"].count()"
   ]
  },
  {
   "cell_type": "code",
   "execution_count": null,
   "id": "ddc3768a-b941-463b-9ffc-8114151001cb",
   "metadata": {},
   "outputs": [],
   "source": []
  }
 ],
 "metadata": {
  "kernelspec": {
   "display_name": "Python 3 (ipykernel)",
   "language": "python",
   "name": "python3"
  },
  "language_info": {
   "codemirror_mode": {
    "name": "ipython",
    "version": 3
   },
   "file_extension": ".py",
   "mimetype": "text/x-python",
   "name": "python",
   "nbconvert_exporter": "python",
   "pygments_lexer": "ipython3",
   "version": "3.13.2"
  }
 },
 "nbformat": 4,
 "nbformat_minor": 5
}
